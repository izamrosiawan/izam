{
 "cells": [
  {
   "cell_type": "markdown",
   "metadata": {},
   "source": [
    "#### Minggu 01 Pengantar Algoritma"
   ]
  },
  {
   "cell_type": "markdown",
   "metadata": {},
   "source": [
    "Algoritma adalah prosedur sistematis dan logis untuk memecahkan masalah, yang terdiri dari langkah-langkah yang harus dieksekusi dalam urutan tertentu. Istilah \"algoritma\" berasal dari kata \"algorism,\" yang berakar dari nama ahli matematika Al-Khuwarizmi. Algoritma harus memberikan keluaran yang diinginkan dari sejumlah masukan yang diberikan.\n",
    "\n",
    "Definisi algoritma mencakup:\n",
    "\n",
    "Langkah-langkah sistematis untuk menyelesaikan masalah (INPUT) dan menghasilkan penyelesaian (OUTPUT).\n",
    "Proses yang melibatkan pengolahan data untuk mencapai hasil yang diinginkan.\n",
    "Contoh algoritma termasuk menghitung rata-rata, menemukan bilangan terbesar dalam deretan angka, dan menentukan bilangan terbesar dari tiga bilangan. Penulisan algoritma dapat dilakukan secara deskriptif, menggunakan flowchart, atau pseudocode.\n",
    "\n",
    "Flowchart adalah representasi grafis dari langkah-langkah dalam suatu program, yang membantu dalam menganalisis dan memecahkan masalah. Aturan pembuatan flowchart mencakup penggambaran dari atas ke bawah, definisi aktivitas yang jelas, dan penggunaan simbol standar.\n",
    "\n",
    "Struktur program dapat dibagi menjadi tiga kategori: sekuensial (berurutan), percabangan (branching), dan perulangan (looping)."
   ]
  },
  {
   "cell_type": "markdown",
   "metadata": {},
   "source": [
    "Berikut yang saya praktekan di kelas :"
   ]
  },
  {
   "cell_type": "code",
   "execution_count": 19,
   "metadata": {},
   "outputs": [
    {
     "name": "stdout",
     "output_type": "stream",
     "text": [
      "nama: izam rosiawan dan umur: 18\n",
      "nama: inaba dan umur: 19\n",
      "\n",
      "\n",
      "izam dan inaba\n"
     ]
    }
   ],
   "source": [
    "# Variaabel\n",
    "nama = \"izam rosiawan\"\n",
    "umur = 18\n",
    "nama1 = \"inaba\"\n",
    "umur1 = 19\n",
    "teks_multibaris = '''izam dan inaba'''\n",
    "print('nama:', nama, 'dan umur:', umur)\n",
    "print(f\"nama: {nama1} dan umur: {umur1}\")\n",
    "print('\\n')\n",
    "print(teks_multibaris)"
   ]
  },
  {
   "cell_type": "markdown",
   "metadata": {},
   "source": [
    "#### Minggu 02 Tipe Data dan Operator"
   ]
  },
  {
   "cell_type": "markdown",
   "metadata": {},
   "source": [
    "1.Tipe Data dan Variabel:\n",
    "\n",
    "Variabel adalah media penyimpanan data yang nilainya dapat berubah selama eksekusi program.\n",
    "Tidak perlu mendeklarasikan tipe data secara eksplisit; Python secara otomatis mengenali dan mengalokasikan memori sesuai tipe data.\n",
    "\n",
    "Tipe data yang umum digunakan meliputi Integer, Float, String, dan Boolean.\n",
    "Variabel harus diisi sebelum dipanggil dan bersifat case sensitive.\n",
    "\n",
    "2.Pengaturan Tampilan:\n",
    "\n",
    "Fungsi print() digunakan untuk menampilkan output dengan berbagai format, seperti pindah baris, mencetak tanpa enter, dan mencetak dengan tab.\n",
    "\n",
    "3.Input Variabel:\n",
    "\n",
    "Fungsi input() digunakan untuk memasukkan nilai variabel secara dinamis, yang secara default disimpan sebagai String. Konversi tipe data diperlukan jika ingin mengubahnya ke tipe lain.\n",
    "\n",
    "4.Ketetapan Matematika:\n",
    "\n",
    "Untuk menggunakan ketetapan matematika seperti π dan e, perlu mengimpor modul math dengan sintaks \n",
    "import math.\n",
    "\n",
    "5.Contoh Penggunaan:\n",
    "\n",
    "Contoh tugas mencakup mengubah tipe data dari integer ke tipe data lain dan membuat algoritma serta analisis program."
   ]
  },
  {
   "cell_type": "code",
   "execution_count": 3,
   "metadata": {},
   "outputs": [
    {
     "name": "stdout",
     "output_type": "stream",
     "text": [
      "Integer ke Float: 42.0, Tipe: <class 'float'>\n",
      "Integer ke String: 42, Tipe: <class 'str'>\n",
      "Integer ke Boolean: True, Tipe: <class 'bool'>\n"
     ]
    }
   ],
   "source": [
    "angka_bulat = 42\n",
    "\n",
    "angka_desimal = float(angka_bulat)\n",
    "print(f\"Integer ke Float: {angka_desimal}, Tipe: {type(angka_desimal)}\")\n",
    "\n",
    "angka_string = str(angka_bulat)\n",
    "print(f\"Integer ke String: {angka_string}, Tipe: {type(angka_string)}\")\n",
    "\n",
    "angka_boolean = bool(angka_bulat)\n",
    "print(f\"Integer ke Boolean: {angka_boolean}, Tipe: {type(angka_boolean)}\")"
   ]
  },
  {
   "cell_type": "code",
   "execution_count": null,
   "metadata": {},
   "outputs": [],
   "source": []
  },
  {
   "cell_type": "markdown",
   "metadata": {},
   "source": [
    "#### Minggu 03 Operator dan Matematika"
   ]
  },
  {
   "cell_type": "markdown",
   "metadata": {},
   "source": [
    "1.Tipe Data:\n",
    "\n",
    "Tipe data adalah kategori yang menentukan jenis nilai yang dapat disimpan dan operasi yang dapat dilakukan. Dalam Python, tipe data numerik utama adalah:\n",
    "\n",
    "Integer (int): Bilangan bulat tanpa bagian pecahan.\n",
    "Float (float): Bilangan yang memiliki bagian pecahan (desimal).\n",
    "Python dapat menentukan tipe data menggunakan fungsi `type()`.\n",
    "\n",
    "2.Mengapa Dua Tipe Angka?:\n",
    "\n",
    "Bilangan bulat (int) lebih efisien untuk algoritma matematika dan tidak memiliki bagian pecahan, sedangkan float menyimpan nilai dengan perkiraan dan tidak selalu tepat.\n",
    "\n",
    "3.Operasi Matematika:\n",
    "\n",
    "Operasi pada tipe data int menghasilkan int, sedangkan operasi pada float menghasilkan float, kecuali untuk pembagian yang selalu menghasilkan float.\n",
    "\n",
    "4.Penggunaan Perpustakaan Matematika:\n",
    "\n",
    "Python memiliki perpustakaan matematika (math) yang menyediakan fungsi tambahan, seperti menghitung akar kuadrat. Untuk menggunakan fungsi dari perpustakaan ini, perlu mengimpor dengan import math.\n",
    "\n",
    "5.Contoh Program:\n",
    "\n",
    "Memberikan contoh program untuk menghitung total harga berdasarkan input harga satuan dan jumlah barang, serta contoh perhitungan bilangan."
   ]
  },
  {
   "cell_type": "code",
   "execution_count": 5,
   "metadata": {},
   "outputs": [
    {
     "name": "stdout",
     "output_type": "stream",
     "text": [
      "Kode Barang : K11f\n",
      "Nama Barang : Kecap Bango\n",
      "Harga Satuannya Adalah : 12000\n",
      "Jumlah Barang : 2\n",
      "Total harga barang yang harus dibayar : Rp 24000\n"
     ]
    }
   ],
   "source": [
    "kode_barang = input(\"Kode Barang :\")\n",
    "print(f\"Kode Barang : {kode_barang}\")\n",
    "\n",
    "nama_barang = input(\"Nama Barang :\")\n",
    "print(f\"Nama Barang : {nama_barang}\")\n",
    "\n",
    "harga_satuan = eval(input(\"Harga Satuan Barang :\"))\n",
    "print(f\"Harga Satuannya Adalah : {harga_satuan}\")\n",
    "\n",
    "jumlah_barang = eval(input(\"Jumlah Barang Yang Dibeli :\"))\n",
    "harga_beli = harga_satuan * jumlah_barang\n",
    "print(f\"Jumlah Barang : {jumlah_barang}\")\n",
    "\n",
    "print(f\"Total harga barang yang harus dibayar : Rp {harga_beli}\")"
   ]
  },
  {
   "cell_type": "code",
   "execution_count": 21,
   "metadata": {},
   "outputs": [
    {
     "name": "stdout",
     "output_type": "stream",
     "text": [
      "5.0\n"
     ]
    }
   ],
   "source": [
    "a = int(input(\"masukan nilai a: \"))\n",
    "b = int(input(\"masukan nilai b: \"))\n",
    "c = int(input(\"masukan nilai c: \"))\n",
    "#rumus\n",
    "x = (a+b+c)/3\n",
    "print(x)"
   ]
  },
  {
   "cell_type": "code",
   "execution_count": 26,
   "metadata": {},
   "outputs": [
    {
     "name": "stdout",
     "output_type": "stream",
     "text": [
      "x : 4\n",
      "139.75\n"
     ]
    }
   ],
   "source": [
    "x = int(input('masukan angka'))\n",
    "fungsi_x = (2*x**3)+(2*x)+(15/x)\n",
    "print(f\"x : {x}\")\n",
    "print(fungsi_x)"
   ]
  },
  {
   "cell_type": "markdown",
   "metadata": {},
   "source": [
    "#### Minggu 04 Presentasi Pribadi"
   ]
  },
  {
   "cell_type": "code",
   "execution_count": 9,
   "metadata": {},
   "outputs": [
    {
     "name": "stdout",
     "output_type": "stream",
     "text": [
      "Pendapatan sebelum dikenakan pajak : 4000000.0\n",
      "\n",
      "Pendapatan setelah dikenakan pajak : 3440000.0\n",
      "\n",
      "Uang untuk membeli baju dan aksesoris : 344000.0\n",
      "\n",
      "Uang untuk membeli alat tulis : 34400.0\n",
      "\n",
      "Uang yang akan disedekah kan:  765400.0\n",
      "\n",
      "Sedekah untuk anak yatim adalah:  229620.0\n",
      "\n",
      "Sedekah untuk kaum dhuafa:  535780.0\n",
      "\n",
      "Sisa gaji budi adalah:  2296200.0\n"
     ]
    }
   ],
   "source": [
    "#Input\n",
    "gaji_perjam = float(input(\"Gaji perjam yang anda inginkan :\"))\n",
    "jumlah_jam_kerja = float(input(\"Masaukan jam kerja yang anda inginkan dalam seminggu\"))\n",
    "\n",
    "#1\n",
    "pendapatan_kotor = gaji_perjam * jumlah_jam_kerja * 5\n",
    "print(\"Pendapatan sebelum dikenakan pajak :\", pendapatan_kotor)\n",
    "print()\n",
    "\n",
    "#2\n",
    "pendapatan_kena_pajak = pendapatan_kotor - (pendapatan_kotor * 0.14)\n",
    "print(\"Pendapatan setelah dikenakan pajak :\", pendapatan_kena_pajak)\n",
    "print()\n",
    "\n",
    "#3\n",
    "untuk_baju = pendapatan_kena_pajak * 0.10\n",
    "print(\"Uang untuk membeli baju dan aksesoris :\", untuk_baju)\n",
    "print()\n",
    "\n",
    "#4\n",
    "untuk_alat_tulis = pendapatan_kena_pajak * 0.01\n",
    "print(\"Uang untuk membeli alat tulis :\", untuk_alat_tulis)\n",
    "print()\n",
    "\n",
    "#sisa1\n",
    "sisa1 = pendapatan_kena_pajak - (untuk_baju + untuk_alat_tulis)\n",
    "\n",
    "#5\n",
    "sedekah = sisa1 * 0.25\n",
    "print(\"Uang yang akan disedekah kan: \",sedekah)\n",
    "print()\n",
    "\n",
    "#sisa2\n",
    "sisa2 = pendapatan_kena_pajak - (sedekah + sisa1)\n",
    "\n",
    "#anak yatim\n",
    "anak_yatim = sedekah * 0.30\n",
    "print(\"Sedekah untuk anak yatim adalah: \", anak_yatim)\n",
    "print()\n",
    "\n",
    "#dhuafa\n",
    "dhuafa = sedekah - anak_yatim\n",
    "print(\"Sedekah untuk kaum dhuafa: \", dhuafa)\n",
    "print()\n",
    "\n",
    "#sisa gaji\n",
    "sisa_gaji = sisa1 - sedekah\n",
    "print(\"Sisa gaji budi adalah: \", sisa_gaji)"
   ]
  },
  {
   "cell_type": "markdown",
   "metadata": {},
   "source": [
    "#### Minggu 05 Perulangan"
   ]
  },
  {
   "cell_type": "markdown",
   "metadata": {},
   "source": [
    "1.Pengertian Perulangan:\n",
    "\n",
    "Perulangan dalam pemrograman berfungsi untuk menjalankan suatu blok kode secara berulang-ulang. Terdapat dua jenis perulangan dalam Python:\n",
    "\n",
    "For Loop: Digunakan untuk perulangan yang terhitung, di mana jumlah iterasi sudah diketahui.\n",
    "While Loop: Digunakan untuk perulangan yang tidak terhitung, di mana kondisi harus dipenuhi untuk melanjutkan perulangan.\n",
    "\n",
    "2.Struktur Perulangan:\n",
    "\n",
    "For Loop: Biasanya digunakan untuk mengulangi elemen dalam sebuah list atau rentang angka.\n",
    "While Loop: Digunakan ketika kondisi tertentu harus dipenuhi, dan tidak ada batasan jumlah iterasi yang ditentukan sebelumnya.\n",
    "\n",
    "3.Perulangan Bersarang (Nested Loop):\n",
    "\n",
    "Perulangan dapat dilakukan di dalam perulangan lain, yang dikenal sebagai nested loop. Ini memungkinkan untuk melakukan iterasi lebih kompleks.\n",
    "\n",
    "4.Penggunaan Else dalam Perulangan:\n",
    "\n",
    "Python mendukung penggunaan else setelah perulangan, yang akan dieksekusi setelah perulangan selesai, kecuali jika perulangan dihentikan dengan break.\n",
    "\n",
    "5.Contoh Saat di Kelas:"
   ]
  },
  {
   "cell_type": "code",
   "execution_count": 13,
   "metadata": {},
   "outputs": [
    {
     "name": "stdout",
     "output_type": "stream",
     "text": [
      "angka 1 sampai 10: \n",
      "1\n",
      "2\n",
      "3\n",
      "4\n",
      "5\n",
      "6\n",
      "7\n",
      "8\n",
      "9\n",
      "10\n"
     ]
    }
   ],
   "source": [
    "print(\"angka 1 sampai 10: \")\n",
    "for i in range(1,11,1):\n",
    "    print(i)"
   ]
  },
  {
   "cell_type": "code",
   "execution_count": 14,
   "metadata": {},
   "outputs": [
    {
     "name": "stdout",
     "output_type": "stream",
     "text": [
      "2  \n",
      "2 3  \n",
      "2 3 4  \n",
      "2 3 4 5  \n",
      "2 3 4 5 6  \n"
     ]
    }
   ],
   "source": [
    "n = int(input(\"masukan baris angka: \"))\n",
    "for i in range(n):\n",
    "    for j in range(i+1):\n",
    "        print(j+2, end=\" \")\n",
    "    print(\" \")"
   ]
  },
  {
   "cell_type": "code",
   "execution_count": 16,
   "metadata": {},
   "outputs": [
    {
     "name": "stdout",
     "output_type": "stream",
     "text": [
      "hasil [1]\n",
      "hasil [1, 2]\n",
      "hasil [1, 2, 3]\n",
      "hasil [1, 2, 3, 4]\n",
      "hasil [1, 2, 3, 4, 5]\n"
     ]
    }
   ],
   "source": [
    "x = []\n",
    "n = 5\n",
    "for i in range(n):\n",
    "    x.append (int(input(\"masukan angka\")))\n",
    "    print(\"hasil\", x)"
   ]
  },
  {
   "cell_type": "code",
   "execution_count": 17,
   "metadata": {},
   "outputs": [
    {
     "name": "stdout",
     "output_type": "stream",
     "text": [
      "b\n",
      "a\n",
      "n\n",
      "a\n",
      "n\n",
      "a\n"
     ]
    }
   ],
   "source": [
    "for i in \"banana\":\n",
    "    print(i)"
   ]
  },
  {
   "cell_type": "markdown",
   "metadata": {},
   "source": [
    "#### Minggu 06 Quiz di Lab"
   ]
  },
  {
   "cell_type": "code",
   "execution_count": 18,
   "metadata": {},
   "outputs": [
    {
     "name": "stdout",
     "output_type": "stream",
     "text": [
      "Pendapatan dari buku A: 150 ribu IDR\n",
      "Pendapatan dari buku B: 75 ribu IDR\n",
      "Pendapatan dari buku C: 160 ribu IDR\n",
      "Pendapatan dari buku D: 200 ribu IDR\n",
      "Pendapatan dari buku E: 210 ribu IDR\n",
      "\n",
      "Total pendapatan dari semua buku: 795 ribu IDR\n"
     ]
    }
   ],
   "source": [
    "# Harga per buku dalam ribuan IDR\n",
    "harga_buku = [30,25,40,20,35]\n",
    "\n",
    "\n",
    "# Jumlah penjualan untuk setiap buku\n",
    "jumlah_penjualan = [5,3,4,10,6]\n",
    "\n",
    "\n",
    "# Menghitung total pendapatan\n",
    "total = 0\n",
    "\n",
    "for i in range(len(harga_buku)):\n",
    "    pendapatan = harga_buku[i] * jumlah_penjualan[i]\n",
    "    total += pendapatan\n",
    "    print(f\"Pendapatan dari buku {chr(ord('A') + i)}: {pendapatan} ribu IDR\")\n",
    "print()\n",
    "# Lakukan print untuk total keseluruhan \n",
    "print(f\"Total pendapatan dari semua buku: {total} ribu IDR\")"
   ]
  },
  {
   "cell_type": "markdown",
   "metadata": {},
   "source": [
    "#### Minggu 07 Percabangan"
   ]
  },
  {
   "cell_type": "markdown",
   "metadata": {},
   "source": [
    "1.Pengertian Percabangan:\n",
    "\n",
    "Percabangan adalah struktur dalam pemrograman yang memungkinkan program untuk mengambil keputusan berdasarkan kondisi tertentu. Ini memungkinkan program untuk \"berpikir\" dan menentukan tindakan yang sesuai dengan logika yang diberikan.\n",
    "\n",
    "2.Jenis-Jenis Percabangan:\n",
    "\n",
    "Single Alternative Selection (If): Digunakan ketika ada satu pilihan keputusan. \n",
    "Contoh: Jika nilai mahasiswa >= 60, maka mahasiswa lulus.\n",
    "\n",
    "Dual Alternative Selection (If...Else): Digunakan ketika ada dua pilihan keputusan. \n",
    "Contoh: Jika umur >= 18, maka \"boleh membuat SIM\", jika tidak, \"tidak boleh buat SIM\".\n",
    "\n",
    "Multiple Alternative Selection (If...Elif...Else): Digunakan untuk lebih dari dua pilihan keputusan. Contoh: Memeriksa beberapa kondisi dengan menggunakan elif.\n",
    "\n",
    "3.Operator Perbandingan:\n",
    "\n",
    "Operator perbandingan digunakan untuk membandingkan nilai, seperti >, <, >=, <=, ==, dan !=.\n",
    "\n",
    "4.Logical Operators:\n",
    "\n",
    "Operator logika seperti and, or, dan not digunakan untuk menggabungkan beberapa kondisi. Contoh: Memeriksa apakah seseorang memenuhi dua syarat sekaligus.\n",
    "\n",
    "Contoh Saat di Kelas:"
   ]
  },
  {
   "cell_type": "code",
   "execution_count": 2,
   "metadata": {},
   "outputs": [
    {
     "name": "stdout",
     "output_type": "stream",
     "text": [
      "Hasil dari 12.0 x 4.0 = 48.0\n",
      "Angka pertama : 12.0\n",
      "Angka kedua : 4.0\n",
      "Operator : x\n",
      "program selesai\n"
     ]
    }
   ],
   "source": [
    "angka1 = float(input(\"Masukan angka pertama: \"))\n",
    "angka2 = float(input(\"Masukan angka kedua: \"))\n",
    "operator = input(\"masukan operator yang anda inginkan: \")\n",
    "\n",
    "if operator == \"+\":\n",
    "     hasil = angka1 + angka2\n",
    "     print(f\"Hasil dari {angka1} + {angka2} = {hasil}\")\n",
    "elif operator == \"-\":\n",
    "     hasil = angka1 - angka2\n",
    "     print(f\"Hasil dari {angka1} - {angka2} = {hasil}\")\n",
    "elif operator == \"x\":\n",
    "     hasil = angka1 * angka2\n",
    "     print(f\"Hasil dari {angka1} x {angka2} = {hasil}\")\n",
    "elif operator == \"/\":\n",
    "     hasil = angka1 / angka2\n",
    "     print(f\"Hasil dari {angka1} / {angka2} = {hasil}\")\n",
    "else:\n",
    "     print(\"kesalahan\")\n",
    "\n",
    "print(f\"Angka pertama : {angka1}\")\n",
    "print(f\"Angka kedua : {angka2}\")\n",
    "print(f\"Operator : {operator}\")\n",
    "print(\"program selesai\")"
   ]
  },
  {
   "cell_type": "code",
   "execution_count": 3,
   "metadata": {},
   "outputs": [
    {
     "name": "stdout",
     "output_type": "stream",
     "text": [
      "Siswa 1 mendapatkan predikat \"Sangat baik\"\n",
      "Siswa 2 mendapatkan predikat \"Baik\"\n",
      "Siswa 3 mendapatkan predikat \"Kurang\"\n",
      "Siswa 4 mendapatkan predikat \"Cukup\"\n",
      "Siswa 5 mendapatkan predikat \"Sangat baik\"\n",
      "Siswa 6 mendapatkan predikat \"Baik\"\n",
      "Siswa 7 mendapatkan predikat \"Kurang\"\n",
      "Siswa 8 mendapatkan predikat \"Cukup\"\n",
      "Siswa 9 mendapatkan predikat \"Sangat baik\"\n",
      "Siswa 10 mendapatkan predikat \"Sangat baik\"\n"
     ]
    }
   ],
   "source": [
    "nilai_siswa = [85, 76, 54, 62, 90, 73, 45, 68, 88, 80]\n",
    "nomor = 0\n",
    "\n",
    "for nilai in nilai_siswa:\n",
    "     if nilai >= 80:\n",
    "          predikat = \"Sangat baik\"\n",
    "     elif 79 > nilai> 70:\n",
    "          predikat = \"Baik\"\n",
    "     elif 69 > nilai > 60:\n",
    "          predikat = \"Cukup\"\n",
    "     elif nilai < 60:\n",
    "          predikat = \"Kurang\"\n",
    "     nomor += 1\n",
    "     print(f'Siswa {nomor} mendapatkan predikat \"{predikat}\"')"
   ]
  },
  {
   "cell_type": "code",
   "execution_count": 4,
   "metadata": {},
   "outputs": [
    {
     "name": "stdout",
     "output_type": "stream",
     "text": [
      "7 adalah bilangan ganjil\n"
     ]
    }
   ],
   "source": [
    "bilangan = int(input(\"masukan bilangan yang anda: \"))\n",
    "\n",
    "if bilangan / 2 ==0:\n",
    "     print(f\"{bilangan} adalah bilangan genap\")\n",
    "elif bilangan / 5 ==0:\n",
    "     print(f\"{bilangan} adalah bilangan kelipatan lima\")\n",
    "elif bilangan % 2 ==1:\n",
    "     print(f\"{bilangan} adalah bilangan ganjil\")\n",
    "\n",
    "else:\n",
    "     print(\"bilangan tidak terdefinisi\")"
   ]
  },
  {
   "cell_type": "markdown",
   "metadata": {},
   "source": [
    "#### Minggu 08 UTS"
   ]
  },
  {
   "cell_type": "code",
   "execution_count": 8,
   "metadata": {},
   "outputs": [
    {
     "name": "stdout",
     "output_type": "stream",
     "text": [
      "Anak ke 1 mendapatkan uang saku $20 per minggu\n",
      "Anak ke 2 mendapatkan uang saku $10 per minggu\n",
      "Anak ke 3 mendapatkan uang saku $20 per minggu\n",
      "Anak ke 4 mendapatkan uang saku $10 per minggu\n",
      "Anak ke 5 mendapatkan uang saku $10 per minggu\n",
      "Anak ke 6 mendapatkan uang saku $10 per minggu\n",
      "Anak ke 7 mendapatkan uang saku $20 per minggu\n",
      "Anak ke 8 mendapatkan uang saku $15 per minggu\n",
      "Total uang saku anak keluarga Wijaya adalah $115\n"
     ]
    }
   ],
   "source": [
    "umur_anak = [8, 12, 9, 16, 14, 16, 4, 10]\n",
    "total_uang_saku = 0\n",
    "anak = 0\n",
    "\n",
    "for i in umur_anak:\n",
    "     anak += 1\n",
    "     if  i > 10:\n",
    "          total_uang_saku += 10\n",
    "          print(f\"Anak ke {anak} mendapatkan uang saku $10 per minggu\")\n",
    "     elif 10  <= i <= 15:\n",
    "          total_uang_saku += 15\n",
    "          print(f\"Anak ke {anak} mendapatkan uang saku $15 per minggu\")\n",
    "     elif i < 15:\n",
    "          total_uang_saku += 20\n",
    "          print(f\"Anak ke {anak} mendapatkan uang saku $20 per minggu\")\n",
    "\n",
    "print(f\"Total uang saku anak keluarga Wijaya adalah ${total_uang_saku}\")"
   ]
  },
  {
   "cell_type": "markdown",
   "metadata": {},
   "source": [
    "#### Minggu 09 Review UTS dan Latihan Kertas"
   ]
  },
  {
   "cell_type": "code",
   "execution_count": 9,
   "metadata": {},
   "outputs": [
    {
     "name": "stdout",
     "output_type": "stream",
     "text": [
      "0 \n",
      "1 2 \n",
      "2 3 4 \n",
      "3 4 5 6 \n"
     ]
    }
   ],
   "source": [
    "n = 4\n",
    "for i in range(n):\n",
    "     for j in range(i+1):\n",
    "          print(i+j, end=\" \")\n",
    "     print()"
   ]
  },
  {
   "cell_type": "code",
   "execution_count": 10,
   "metadata": {},
   "outputs": [
    {
     "name": "stdout",
     "output_type": "stream",
     "text": [
      "0 \n",
      "0 1 \n",
      "0 1 2 \n",
      "0 1 2 3 \n"
     ]
    }
   ],
   "source": [
    "# Output program akan seperti ini:\n",
    "# 0 \n",
    "# 0 1 \n",
    "# 0 1 2 \n",
    "# 0 1 2 3 \n",
    "\n",
    "n = 4\n",
    "for i in range(n):          # Loop pertama (i) mengontrol baris: 0,1,2,3\n",
    "    for j in range(i+1):    # Loop kedua (j) mengontrol kolom di setiap baris\n",
    "        print(j, end=\" \")   # Mencetak nilai j diikuti spasi\n",
    "    print()                 # Pindah ke baris baru setelah inner loop selesai"
   ]
  },
  {
   "cell_type": "code",
   "execution_count": 11,
   "metadata": {},
   "outputs": [
    {
     "name": "stdout",
     "output_type": "stream",
     "text": [
      "1 2 6 24 120 "
     ]
    }
   ],
   "source": [
    "x = 1\n",
    "for i in range(5):\n",
    "     x = x * (i+1)\n",
    "     print(x, end=\" \")"
   ]
  },
  {
   "cell_type": "code",
   "execution_count": 12,
   "metadata": {},
   "outputs": [
    {
     "name": "stdout",
     "output_type": "stream",
     "text": [
      "1 2 Fizz 4 5 Fizz 7 8 Fizz "
     ]
    }
   ],
   "source": [
    "for i in range(1,10):\n",
    "     if i % 3 == 0:\n",
    "          print(\"Fizz\", end=\" \")\n",
    "     else:\n",
    "          print(i, end=\" \")"
   ]
  },
  {
   "cell_type": "code",
   "execution_count": 13,
   "metadata": {},
   "outputs": [
    {
     "name": "stdout",
     "output_type": "stream",
     "text": [
      "50 25 12 6 3 "
     ]
    }
   ],
   "source": [
    "x = 50\n",
    "while x > 1:\n",
    "     print(x, end=\" \")\n",
    "     x//=2"
   ]
  },
  {
   "cell_type": "markdown",
   "metadata": {},
   "source": [
    "#### Minggu 10 Tugas Membuat Soal dan Github"
   ]
  },
  {
   "cell_type": "code",
   "execution_count": 14,
   "metadata": {},
   "outputs": [
    {
     "name": "stdout",
     "output_type": "stream",
     "text": [
      "\n",
      "Pengunjung dengan tinggi 145 cm:\n",
      "- Dikenakan biaya tiket $7\n",
      "\n",
      "Pengunjung dengan tinggi 120 cm:\n",
      "- Dikenakan biaya tiket $5\n",
      "\n",
      "Pengunjung dengan tinggi 155 cm:\n",
      "- Dikenakan biaya tiket $10\n",
      "\n",
      "Pengunjung dengan tinggi 130 cm:\n",
      "- Dikenakan biaya tiket $7\n",
      "\n",
      "Pengunjung dengan tinggi 160 cm:\n",
      "- Dikenakan biaya tiket $10\n",
      "\n",
      "Pengunjung dengan tinggi 135 cm:\n",
      "- Dikenakan biaya tiket $7\n",
      "\n",
      "Pengunjung dengan tinggi 125 cm:\n",
      "- Dikenakan biaya tiket $5\n",
      "\n",
      "Pengunjung dengan tinggi 150 cm:\n",
      "- Dikenakan biaya tiket $7\n",
      "\n",
      "Total biaya tiket untuk 8 pengunjung adalah $58\n"
     ]
    }
   ],
   "source": [
    "tinggi_badan = [145, 120, 155, 130, 160, 135, 125, 150]\n",
    "total_bayar = 0\n",
    "\n",
    "for i in tinggi_badan:\n",
    "    print()\n",
    "    print(f\"Pengunjung dengan tinggi {i} cm:\")\n",
    "    if i < 130:\n",
    "        total_bayar += 5\n",
    "        print(\"- Dikenakan biaya tiket $5\")\n",
    "    elif 130 <= i <= 150:\n",
    "        total_bayar += 7\n",
    "        print(\"- Dikenakan biaya tiket $7\")\n",
    "    else:\n",
    "        total_bayar += 10\n",
    "        print(\"- Dikenakan biaya tiket $10\")\n",
    "\n",
    "print()\n",
    "print(f\"Total biaya tiket untuk 8 pengunjung adalah ${total_bayar}\")\n"
   ]
  }
 ],
 "metadata": {
  "kernelspec": {
   "display_name": "base",
   "language": "python",
   "name": "python3"
  },
  "language_info": {
   "codemirror_mode": {
    "name": "ipython",
    "version": 3
   },
   "file_extension": ".py",
   "mimetype": "text/x-python",
   "name": "python",
   "nbconvert_exporter": "python",
   "pygments_lexer": "ipython3",
   "version": "3.12.4"
  }
 },
 "nbformat": 4,
 "nbformat_minor": 2
}
