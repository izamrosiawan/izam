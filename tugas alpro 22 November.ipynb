{
 "cells": [
  {
   "cell_type": "markdown",
   "metadata": {},
   "source": [
    "Wahana Bermain Ceria menerapkan sistem tiket berdasarkan tinggi badan pengunjung.\n",
    "Pengunjung dengan tinggi kurang dari 130 cm membayar $5\n",
    "Pengunjung dengan tinggi 130-150 cm membayar $7  \n",
    "Pengunjung dengan tinggi di atas 150 cm membayar $10\n",
    "Buatlah program untuk menghitung total biaya tiket dari sekelompok pengunjung dengan \n",
    "data tinggi badan [145, 120, 155, 130, 160, 135, 125, 150] cm."
   ]
  },
  {
   "cell_type": "code",
   "execution_count": null,
   "metadata": {},
   "outputs": [
    {
     "name": "stdout",
     "output_type": "stream",
     "text": [
      "\n",
      "Pengunjung dengan tinggi 145 cm:\n",
      "- Dikenakan biaya tiket $7\n",
      "\n",
      "Pengunjung dengan tinggi 120 cm:\n",
      "- Dikenakan biaya tiket $5\n",
      "\n",
      "Pengunjung dengan tinggi 155 cm:\n",
      "- Dikenakan biaya tiket $10\n",
      "\n",
      "Pengunjung dengan tinggi 130 cm:\n",
      "- Dikenakan biaya tiket $7\n",
      "\n",
      "Pengunjung dengan tinggi 160 cm:\n",
      "- Dikenakan biaya tiket $10\n",
      "\n",
      "Pengunjung dengan tinggi 135 cm:\n",
      "- Dikenakan biaya tiket $7\n",
      "\n",
      "Pengunjung dengan tinggi 125 cm:\n",
      "- Dikenakan biaya tiket $5\n",
      "\n",
      "Pengunjung dengan tinggi 150 cm:\n",
      "- Dikenakan biaya tiket $7\n",
      "\n",
      "Total biaya tiket untuk 8 pengunjung adalah $58\n"
     ]
    }
   ],
   "source": [
    "tinggi_badan = [145, 120, 155, 130, 160, 135, 125, 150]\n",
    "total_bayar = 0\n",
    "\n",
    "for i in tinggi_badan:\n",
    "    print()\n",
    "    print(f\"Pengunjung dengan tinggi {i} cm:\")\n",
    "    if i < 130:\n",
    "        total_bayar += 5\n",
    "        print(\"- Dikenakan biaya tiket $5\")\n",
    "    elif 130 <= i <= 150:\n",
    "        total_bayar += 7\n",
    "        print(\"- Dikenakan biaya tiket $7\")\n",
    "    else:\n",
    "        total_bayar += 10\n",
    "        print(\"- Dikenakan biaya tiket $10\")\n",
    "\n",
    "print()\n",
    "print(f\"Total biaya tiket untuk 8 pengunjung adalah ${total_bayar}\")\n"
   ]
  },
  {
   "cell_type": "markdown",
   "metadata": {},
   "source": [
    "Buatlah program untuk menghitung biaya listrik dengan ketentuan:\n",
    "\n",
    "Jika penggunaan kurang dari 100 kWh, biaya Rp 2.000 per kWh\n",
    "Jika penggunaan antara 100-200 kWh, biaya Rp 3.000 per kWh\n",
    "Jika penggunaan lebih dari 200 kWh, biaya Rp 4.000 per kWh\n",
    "\n",
    "Hitung total biaya listrik untuk rumah dengan penggunaan:\n",
    "[75, 80, 150, 250, 140, 125]"
   ]
  },
  {
   "cell_type": "code",
   "execution_count": 22,
   "metadata": {},
   "outputs": [
    {
     "name": "stdout",
     "output_type": "stream",
     "text": [
      "\n",
      "Pemakaian 75 kWh\n",
      "Biaya = Rp 150,000\n",
      "\n",
      "Pemakaian 80 kWh\n",
      "Biaya = Rp 160,000\n",
      "\n",
      "Pemakaian 150 kWh\n",
      "Biaya = Rp 450,000\n",
      "\n",
      "Pemakaian 250 kWh\n",
      "Biaya = Rp 1,000,000\n",
      "\n",
      "Pemakaian 140 kWh\n",
      "Biaya = Rp 420,000\n",
      "\n",
      "Pemakaian 125 kWh\n",
      "Biaya = Rp 375,000\n",
      "\n",
      "Total pendapatan dari 6 rumah: Rp 2,555,000\n"
     ]
    }
   ],
   "source": [
    "penggunaan_listrik = [75, 80, 150, 250, 140, 125]\n",
    "total_biaya = 0\n",
    "\n",
    "for i in penggunaan_listrik:\n",
    "     if i < 100:\n",
    "        biaya = i * 2000\n",
    "        print(f\"\\nPemakaian {i} kWh\")\n",
    "        print(f\"Biaya = Rp {biaya:,}\")\n",
    "     elif 100 <= i <= 200:\n",
    "        biaya = i * 3000\n",
    "        print(f\"\\nPemakaian {i} kWh\")\n",
    "        print(f\"Biaya = Rp {biaya:,}\")\n",
    "     else:\n",
    "        biaya = i * 4000\n",
    "        print(f\"\\nPemakaian {i} kWh\")\n",
    "        print(f\"Biaya = Rp {biaya:,}\")\n",
    " \n",
    "     total_biaya += biaya\n",
    "     \n",
    "print(f\"\\nTotal pendapatan dari {len(penggunaan_listrik)} rumah: Rp {total_biaya:,}\")"
   ]
  }
 ],
 "metadata": {
  "kernelspec": {
   "display_name": "base",
   "language": "python",
   "name": "python3"
  },
  "language_info": {
   "codemirror_mode": {
    "name": "ipython",
    "version": 3
   },
   "file_extension": ".py",
   "mimetype": "text/x-python",
   "name": "python",
   "nbconvert_exporter": "python",
   "pygments_lexer": "ipython3",
   "version": "3.12.4"
  }
 },
 "nbformat": 4,
 "nbformat_minor": 2
}
