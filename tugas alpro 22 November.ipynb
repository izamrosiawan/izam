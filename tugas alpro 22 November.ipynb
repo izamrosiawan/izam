{
 "cells": [
  {
   "cell_type": "code",
   "execution_count": null,
   "metadata": {},
   "outputs": [],
   "source": [
    "#Wahana Bermain Ceria menerapkan sistem tiket berdasarkan tinggi badan pengunjung.\n",
    "#Pengunjung dengan tinggi kurang dari 130 cm membayar $5\n",
    "#Pengunjung dengan tinggi 130-150 cm membayar $7  \n",
    "#Pengunjung dengan tinggi di atas 150 cm membayar $10\n",
    "#Buatlah program untuk menghitung total biaya tiket dari sekelompok pengunjung dengan \n",
    "# data tinggi badan\n",
    "#[145, 120, 155, 130, 160, 135, 125, 150] cm."
   ]
  },
  {
   "cell_type": "code",
   "execution_count": null,
   "metadata": {},
   "outputs": [
    {
     "name": "stdout",
     "output_type": "stream",
     "text": [
      "\n",
      "Pengunjung dengan tinggi 145 cm:\n",
      "- Dikenakan biaya tiket $7\n",
      "\n",
      "Pengunjung dengan tinggi 120 cm:\n",
      "- Dikenakan biaya tiket $5\n",
      "\n",
      "Pengunjung dengan tinggi 155 cm:\n",
      "- Dikenakan biaya tiket $10\n",
      "\n",
      "Pengunjung dengan tinggi 130 cm:\n",
      "- Dikenakan biaya tiket $7\n",
      "\n",
      "Pengunjung dengan tinggi 160 cm:\n",
      "- Dikenakan biaya tiket $10\n",
      "\n",
      "Pengunjung dengan tinggi 135 cm:\n",
      "- Dikenakan biaya tiket $7\n",
      "\n",
      "Pengunjung dengan tinggi 125 cm:\n",
      "- Dikenakan biaya tiket $5\n",
      "\n",
      "Pengunjung dengan tinggi 150 cm:\n",
      "- Dikenakan biaya tiket $7\n",
      "\n",
      "Total biaya tiket untuk 8 pengunjung adalah $58\n"
     ]
    }
   ],
   "source": [
    "tinggi_badan = [145, 120, 155, 130, 160, 135, 125, 150]\n",
    "total_bayar = 0\n",
    "\n",
    "for i in tinggi_badan:\n",
    "    print()\n",
    "    print(f\"Pengunjung dengan tinggi {i} cm:\")\n",
    "    if i < 130:\n",
    "        total_bayar += 5\n",
    "        print(\"- Dikenakan biaya tiket $5\")\n",
    "    elif 130 <= i <= 150:\n",
    "        total_bayar += 7\n",
    "        print(\"- Dikenakan biaya tiket $7\")\n",
    "    else:\n",
    "        total_bayar += 10\n",
    "        print(\"- Dikenakan biaya tiket $10\")\n",
    "\n",
    "print()\n",
    "print(f\"Total biaya tiket untuk 8 pengunjung adalah ${total_bayar}\")\n"
   ]
  },
  {
   "cell_type": "code",
   "execution_count": null,
   "metadata": {},
   "outputs": [],
   "source": []
  }
 ],
 "metadata": {
  "kernelspec": {
   "display_name": "base",
   "language": "python",
   "name": "python3"
  },
  "language_info": {
   "codemirror_mode": {
    "name": "ipython",
    "version": 3
   },
   "file_extension": ".py",
   "mimetype": "text/x-python",
   "name": "python",
   "nbconvert_exporter": "python",
   "pygments_lexer": "ipython3",
   "version": "3.12.4"
  }
 },
 "nbformat": 4,
 "nbformat_minor": 2
}
